{
 "cells": [
  {
   "cell_type": "markdown",
   "id": "ca2f5c8d",
   "metadata": {},
   "source": [
    "## PYTHON SYNTAX CHECKPOINT"
   ]
  },
  {
   "cell_type": "markdown",
   "id": "70f2e070",
   "metadata": {},
   "source": [
    "# QUESTION 2. Begin by typing the line 'Welcome to Python Pizza Deliveries' which will display a welcome message when the code is run."
   ]
  },
  {
   "cell_type": "code",
   "execution_count": 2,
   "id": "088845a3",
   "metadata": {},
   "outputs": [],
   "source": [
    "def greet():\n",
    "    print(\"Welcome To Python Pizza Deliveries\")"
   ]
  },
  {
   "cell_type": "code",
   "execution_count": 2,
   "id": "d3b19a8d",
   "metadata": {},
   "outputs": [
    {
     "name": "stdout",
     "output_type": "stream",
     "text": [
      "Welcome To Python Pizza Deliveries\n"
     ]
    }
   ],
   "source": [
    "greet()"
   ]
  },
  {
   "cell_type": "markdown",
   "id": "32306d5b",
   "metadata": {},
   "source": [
    "# QUESTION 3.Add a line that prompts the user for the size of the pizza they want using the input() function and stores the user's input in a variable named 'size'."
   ]
  },
  {
   "cell_type": "code",
   "execution_count": 3,
   "id": "65778126",
   "metadata": {},
   "outputs": [
    {
     "name": "stdout",
     "output_type": "stream",
     "text": [
      "What Size Of Pizza Do You Want ?large\n"
     ]
    }
   ],
   "source": [
    "size = input(\"What Size Of Pizza Do You Want ?\")"
   ]
  },
  {
   "cell_type": "code",
   "execution_count": 4,
   "id": "7aceaebf",
   "metadata": {},
   "outputs": [
    {
     "data": {
      "text/plain": [
       "'large'"
      ]
     },
     "execution_count": 4,
     "metadata": {},
     "output_type": "execute_result"
    }
   ],
   "source": [
    "size"
   ]
  },
  {
   "cell_type": "code",
   "execution_count": 19,
   "id": "b5754af3",
   "metadata": {},
   "outputs": [],
   "source": [
    "Small_pizza = 15 \n",
    "Medium_pizza = 20  \n",
    "Large_pizza = 25 \n",
    "pepperoni_small_pizza_size = 2 \n",
    "pepperoni_Medium_Large_pizza = 3\n",
    "cheese = 1"
   ]
  },
  {
   "cell_type": "markdown",
   "id": "9510d0ba",
   "metadata": {},
   "source": [
    "## QUESTION 4. Add a line that prompts the user if they want pepperoni on their pizza using the input() function and stores the user's input in a variable named 'add_pepperoni'."
   ]
  },
  {
   "cell_type": "code",
   "execution_count": 7,
   "id": "bcf3dfbf",
   "metadata": {},
   "outputs": [
    {
     "name": "stdout",
     "output_type": "stream",
     "text": [
      "Do you want pepperoni on your pizza?  Y/N: Y\n"
     ]
    }
   ],
   "source": [
    "add_pepperoni = input(\"Do you want pepperoni on your pizza?  Y/N: \")"
   ]
  },
  {
   "cell_type": "markdown",
   "id": "a4659a6b",
   "metadata": {},
   "source": [
    "## Question 5. Add a line that prompts the user if they want extra cheese on their pizza using the input() function and stores the user's input in a variable named 'extra_cheese'."
   ]
  },
  {
   "cell_type": "code",
   "execution_count": 8,
   "id": "769089f1",
   "metadata": {
    "scrolled": true
   },
   "outputs": [
    {
     "name": "stdout",
     "output_type": "stream",
     "text": [
      "Do You Want Extra Cheese On Your Pizza? Y/N: Y\n"
     ]
    }
   ],
   "source": [
    "extra_cheese = input(\"Do You Want Extra Cheese On Your Pizza? Y/N: \")"
   ]
  },
  {
   "cell_type": "code",
   "execution_count": 9,
   "id": "882a5a23",
   "metadata": {},
   "outputs": [],
   "source": [
    "if size == \"L\":\n",
    "    print (\"Bill:, Large_pizza\")"
   ]
  },
  {
   "cell_type": "code",
   "execution_count": 21,
   "id": "36301d8b",
   "metadata": {},
   "outputs": [
    {
     "name": "stdout",
     "output_type": "stream",
     "text": [
      "what size of pizza do you want ?l\n",
      "Do you want pepperoni on your pizza?  Y/N: y\n",
      "Do You Want Extra Cheese On Your Pizza? Y/N: y\n",
      "Bill is = $29\n"
     ]
    }
   ],
   "source": [
    "size = input(\"what size of pizza do you want ?\").lower()\n",
    "add_pepperoni = input(\"Do you want pepperoni on your pizza?  Y/N: \").lower()\n",
    "extra_cheese = input(\"Do You Want Extra Cheese On Your Pizza? Y/N: \").lower()\n",
    "if size == 'l' and  add_pepperoni == 'y' and extra_cheese == 'n':\n",
    "    print(f\"Bill is = ${Large_pizza + pepperoni_Medium_Large_pizza}\")\n",
    "elif size == 'l' and add_pepperoni == 'y' and extra_cheese == 'y':\n",
    "    print(f\"Bill is = ${Large_pizza + pepperoni_Medium_Large_pizza + cheese}\") \n",
    "elif size == 'l' and add_pepperoni == 'n' and extra_cheese == 'y':\n",
    "    print(f\"Bill is = ${Large_pizza + cheese}\")\n",
    "elif size == 'l'and add_pepperoni == 'n' and extra_cheese == 'n':\n",
    "    print(f\"Bill is = ${Large_pizza}\")\n",
    "if size == 'm' and  add_pepperoni == 'y' and extra_cheese == 'n':\n",
    "    print(f\"Bill is = ${Medium_pizza + pepperoni_Medium_Large_pizza}\")\n",
    "elif size == 'm' and add_pepperoni == 'y' and extra_cheese == 'y':\n",
    "    print(f\"Bill is = ${Medium_pizza + pepperoni_Medium_Large_pizza + cheese}\") \n",
    "elif size == 'm' and add_pepperoni == 'n' and extra_cheese == 'y':\n",
    "    print(f\"Bill is = ${Medium_pizza + cheese}\")\n",
    "elif size == 'm'and add_pepperoni == 'n' and extra_cheese == 'n':\n",
    "    print(f\"Bill is = ${Medium_pizza}\")\n",
    "if size == 's' and  add_pepperoni == 'y' and extra_cheese == 'n':\n",
    "    print(f\"Bill is = ${Small_pizza + pepperoni_small_pizza}\")\n",
    "elif size == 's' and add_pepperoni == 'y' and extra_cheese == 'y':\n",
    "    print(f\"Bill is = ${Small_pizza + pepperoni_small_pizza + cheese}\") \n",
    "elif size == 's' and add_pepperoni == 'n' and extra_cheese == 'y':\n",
    "    print(f\"Bill is = ${Small_pizza + cheese}\")\n",
    "elif size == 's'and add_pepperoni == 'n' and extra_cheese == 'n':\n",
    "    print(f\"Bill is = ${Small_pizza}\")\n",
    "        \n",
    "        \n",
    "    \n",
    "\n",
    "    "
   ]
  },
  {
   "cell_type": "code",
   "execution_count": null,
   "id": "f716440b",
   "metadata": {},
   "outputs": [],
   "source": []
  }
 ],
 "metadata": {
  "kernelspec": {
   "display_name": "Python 3 (ipykernel)",
   "language": "python",
   "name": "python3"
  },
  "language_info": {
   "codemirror_mode": {
    "name": "ipython",
    "version": 3
   },
   "file_extension": ".py",
   "mimetype": "text/x-python",
   "name": "python",
   "nbconvert_exporter": "python",
   "pygments_lexer": "ipython3",
   "version": "3.11.5"
  }
 },
 "nbformat": 4,
 "nbformat_minor": 5
}
