{
 "cells": [
  {
   "cell_type": "markdown",
   "id": "c0a30365",
   "metadata": {},
   "source": [
    "QUESTION 2. Begin by typing the line 'welcome to python pizza Deliveries' which will display a welcome message when the code is run"
   ]
  },
  {
   "cell_type": "markdown",
   "id": "fcdef859",
   "metadata": {},
   "source": []
  },
  {
   "cell_type": "code",
   "execution_count": 5,
   "id": "dcd1d2c2",
   "metadata": {},
   "outputs": [],
   "source": [
    "def greet():\n",
    "    print(\"Welcome to Python Pizza Deliveries\")"
   ]
  },
  {
   "cell_type": "code",
   "execution_count": 6,
   "id": "abfabc22",
   "metadata": {},
   "outputs": [
    {
     "name": "stdout",
     "output_type": "stream",
     "text": [
      "Welcome to Python Pizza Deliveries\n"
     ]
    }
   ],
   "source": [
    "greet()"
   ]
  },
  {
   "cell_type": "markdown",
   "id": "45280c19",
   "metadata": {},
   "source": [
    "OUESTION 3. Add a line that prompts the user for the size of the pizza they want using the input() function and stores the user's input in a variable name 'size'"
   ]
  },
  {
   "cell_type": "code",
   "execution_count": 42,
   "id": "8791cab0",
   "metadata": {
    "scrolled": true
   },
   "outputs": [
    {
     "name": "stdout",
     "output_type": "stream",
     "text": [
      "what pizza size do you want? choose 'L' for large, 'M' for medium, 'S' for smallm\n",
      "Total balance is $ 20\n"
     ]
    }
   ],
   "source": [
    "\n",
    "small_pizza = 15\n",
    "medium_pizza = 20\n",
    "large_pizza = 25\n",
    "pepperoni_small_pizza_size = 2\n",
    "pepperoni_medium_large_pizza_size = 3\n",
    "cheese = 1\n",
    "\n",
    "\n",
    "pizza_size = input(\"what pizza size do you want? choose 'L' for large, 'M' for medium, 'S' for small\").lower()\n",
    "if pizza_size == 'l':\n",
    "    print(\"Total balance is $\", large_pizza)\n",
    "elif pizza_size == 'm':\n",
    "    print(\"Total balance is $\", medium_pizza)\n",
    "elif pizza_size == \"s\":\n",
    "    print(\"Total balance is $\", small_pizza)"
   ]
  },
  {
   "cell_type": "markdown",
   "id": "6806947e",
   "metadata": {},
   "source": [
    "QUESTION 4. Add a line that prompts the user if they want pepperoni on their pizza using the input() function and stores the user's input in a variable named 'add_pepperoni'."
   ]
  },
  {
   "cell_type": "code",
   "execution_count": 15,
   "id": "1815dba7",
   "metadata": {},
   "outputs": [
    {
     "name": "stdout",
     "output_type": "stream",
     "text": [
      "Do you want pepperoni on your pizza Y/N: Y\n"
     ]
    }
   ],
   "source": [
    "add_pepperoni = input(\"Do you want pepperoni on your pizza Y/N: \")"
   ]
  },
  {
   "cell_type": "code",
   "execution_count": 13,
   "id": "7ea131ef",
   "metadata": {},
   "outputs": [
    {
     "data": {
      "text/plain": [
       "'Large'"
      ]
     },
     "execution_count": 13,
     "metadata": {},
     "output_type": "execute_result"
    }
   ],
   "source": [
    "pizza_size"
   ]
  },
  {
   "cell_type": "markdown",
   "id": "4496612d",
   "metadata": {},
   "source": [
    "QUESTION 5. Add a line that prompts the user if they want extra cheese on their pizza using the input() function and stores the user's input in a variable named 'extra_cheese'."
   ]
  },
  {
   "cell_type": "code",
   "execution_count": 16,
   "id": "0144797a",
   "metadata": {},
   "outputs": [
    {
     "name": "stdout",
     "output_type": "stream",
     "text": [
      "Do you want extra cheese Y/N: N\n"
     ]
    }
   ],
   "source": [
    "extra_cheese = input(\"Do you want extra cheese Y/N: \")"
   ]
  },
  {
   "cell_type": "code",
   "execution_count": 36,
   "id": "72b6e109",
   "metadata": {},
   "outputs": [],
   "source": [
    "if pizza_size == \"L\":\n",
    "    print (\"Bill:, Large_pizza\")"
   ]
  },
  {
   "cell_type": "code",
   "execution_count": 37,
   "id": "94a946f2",
   "metadata": {},
   "outputs": [
    {
     "name": "stdout",
     "output_type": "stream",
     "text": [
      "what pizza size do you want ?s\n",
      "Total balance is $15\n"
     ]
    }
   ],
   "source": [
    "pizza_size = input(\"what pizza size do you want ?\").lower()\n",
    "if pizza_size == 'l':\n",
    "    print(f\"Bill = ${large_pizza}\") \n",
    "elif pizza_size == 'm':\n",
    "    print(F\" Total balance is ${medium_pizza}\")\n",
    "elif pizza_size == 's':\n",
    "    print(f\"Total balance is ${small_pizza}\")"
   ]
  },
  {
   "cell_type": "code",
   "execution_count": 35,
   "id": "8fe96af4",
   "metadata": {},
   "outputs": [
    {
     "name": "stdout",
     "output_type": "stream",
     "text": [
      "what pizza size do you want ?s\n",
      "Total balance is 15\n"
     ]
    }
   ],
   "source": [
    "pizza_size = input(\"what pizza size do you want ?\").lower()\n",
    "if pizza_size == 'l':\n",
    "    print(\"Total balance is\",large_pizza) # total balance  here i used to define price\n",
    "elif pizza_size == 'm':\n",
    "    print(\"Total balance is\",medium_pizza)\n",
    "elif pizza_size == 's':\n",
    "    print(\"Total balance is\",small_pizza)"
   ]
  },
  {
   "cell_type": "code",
   "execution_count": 1,
   "id": "a63571d3",
   "metadata": {},
   "outputs": [
    {
     "name": "stdout",
     "output_type": "stream",
     "text": [
      "what pizza size do you want? choose 'L' for large, 'M' for medium, 'S' for smallL\n",
      "Do you want pepperoni on your pizza Y/N: Y\n",
      "Do you want extra cheese Y/N: N\n"
     ]
    },
    {
     "ename": "NameError",
     "evalue": "name 'large_pizza' is not defined",
     "output_type": "error",
     "traceback": [
      "\u001b[1;31m---------------------------------------------------------------------------\u001b[0m",
      "\u001b[1;31mNameError\u001b[0m                                 Traceback (most recent call last)",
      "Cell \u001b[1;32mIn[1], line 5\u001b[0m\n\u001b[0;32m      3\u001b[0m extra_cheese \u001b[38;5;241m=\u001b[39m \u001b[38;5;28minput\u001b[39m(\u001b[38;5;124m\"\u001b[39m\u001b[38;5;124mDo you want extra cheese Y/N: \u001b[39m\u001b[38;5;124m\"\u001b[39m)\u001b[38;5;241m.\u001b[39mlower()\n\u001b[0;32m      4\u001b[0m \u001b[38;5;28;01mif\u001b[39;00m pizza_size \u001b[38;5;241m==\u001b[39m \u001b[38;5;124m'\u001b[39m\u001b[38;5;124ml\u001b[39m\u001b[38;5;124m'\u001b[39m \u001b[38;5;129;01mand\u001b[39;00m  add_pepperoni \u001b[38;5;241m==\u001b[39m \u001b[38;5;124m'\u001b[39m\u001b[38;5;124my\u001b[39m\u001b[38;5;124m'\u001b[39m:\n\u001b[1;32m----> 5\u001b[0m     \u001b[38;5;28mprint\u001b[39m(\u001b[38;5;124m\"\u001b[39m\u001b[38;5;124mprice is $\u001b[39m\u001b[38;5;124m\"\u001b[39m, large_pizza \u001b[38;5;241m+\u001b[39m pepperoni_medium_large_pizza_size) \u001b[38;5;66;03m# price is used here because it is the amount assigned to it from the question\u001b[39;00m\n\u001b[0;32m      6\u001b[0m \u001b[38;5;28;01melif\u001b[39;00m pizza_size \u001b[38;5;241m==\u001b[39m \u001b[38;5;124m'\u001b[39m\u001b[38;5;124mm\u001b[39m\u001b[38;5;124m'\u001b[39m:\n\u001b[0;32m      7\u001b[0m     \u001b[38;5;28mprint\u001b[39m(\u001b[38;5;124m\"\u001b[39m\u001b[38;5;124mprice is $\u001b[39m\u001b[38;5;124m\"\u001b[39m, medium_pizza) \n",
      "\u001b[1;31mNameError\u001b[0m: name 'large_pizza' is not defined"
     ]
    }
   ],
   "source": [
    "pizza_size = input(\"what pizza size do you want? choose 'L' for large, 'M' for medium, 'S' for small\").lower()\n",
    "add_pepperoni = input(\"Do you want pepperoni on your pizza Y/N: \").lower()\n",
    "extra_cheese = input(\"Do you want extra cheese Y/N: \").lower()\n",
    "if pizza_size == 'l' and  add_pepperoni == 'y':\n",
    "    print(\"price is $\", large_pizza + pepperoni_medium_large_pizza_size) # price is used here because it is the amount assigned to it from the question\n",
    "elif pizza_size == 'm':\n",
    "    print(\"price is $\", medium_pizza) \n",
    "elif pizza_size == \"s\":\n",
    "    print(\"price is $\", small_pizza)\n",
    "elif pizza_size == 'l' and add_pepperoni == 'y':\n",
    "    print(f\"your price is:{large_pizza + pepperoni_medium_large}\")\n",
    "elif pizza_size == 'l' and add_pepperoni == 'n':\n",
    "    print(f\"your price is:{large_pizza + pepperoni_medium_large}\")   "
   ]
  },
  {
   "cell_type": "code",
   "execution_count": 44,
   "id": "d4b71436",
   "metadata": {},
   "outputs": [
    {
     "name": "stdout",
     "output_type": "stream",
     "text": [
      "what pizza size do you want ?m\n",
      " Total balance is = $20\n"
     ]
    }
   ],
   "source": [
    "pizza_size = input(\"what pizza size do you want ?\").lower()\n",
    "if pizza_size == 'l':\n",
    "    print(f\"Total balance is = ${large_pizza}\") \n",
    "elif pizza_size == 'm':\n",
    "    print(F\" Total balance is = ${medium_pizza}\")\n",
    "elif pizza_size == 's':\n",
    "    print(f\"Total balance is =  ${small_pizza}\")"
   ]
  },
  {
   "cell_type": "code",
   "execution_count": null,
   "id": "cd3baf12",
   "metadata": {},
   "outputs": [],
   "source": []
  }
 ],
 "metadata": {
  "kernelspec": {
   "display_name": "Python 3 (ipykernel)",
   "language": "python",
   "name": "python3"
  },
  "language_info": {
   "codemirror_mode": {
    "name": "ipython",
    "version": 3
   },
   "file_extension": ".py",
   "mimetype": "text/x-python",
   "name": "python",
   "nbconvert_exporter": "python",
   "pygments_lexer": "ipython3",
   "version": "3.11.5"
  }
 },
 "nbformat": 4,
 "nbformat_minor": 5
}
